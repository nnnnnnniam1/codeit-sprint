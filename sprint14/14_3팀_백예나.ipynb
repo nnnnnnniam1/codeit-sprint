{
 "cells": [
  {
   "cell_type": "markdown",
   "id": "9fcd189f",
   "metadata": {},
   "source": [
    "!pip install -qU langchain-text-splitters langchain-community langgraph langchain-huggingface faiss-cpu bitsandbytes accelerate pypdf"
   ]
  },
  {
   "cell_type": "markdown",
   "id": "e4c13371",
   "metadata": {},
   "source": []
  }
 ],
 "metadata": {
  "language_info": {
   "name": "python"
  }
 },
 "nbformat": 4,
 "nbformat_minor": 5
}
